{
 "cells": [
  {
   "cell_type": "code",
   "execution_count": null,
   "metadata": {},
   "outputs": [],
   "source": [
    "from pandas import read_csv \n",
    "import pandas as pd\n",
    "import numpy as np\n",
    "import csv\n",
    "from datetime import datetime\n",
    "from datetime import date\n",
    "import seaborn as sns\n",
    "import matplotlib.pyplot as plt\n",
    "import sys\n",
    "from sklearn.preprocessing import MinMaxScaler\n",
    "\n",
    "  \n",
    "data_g = pd.read_csv('C:/Users/perera/Desktop/preprocessing/datafinal_proto.csv')\n",
    "\n",
    "corr = data_g.corr()\n",
    "#print(abs(corr)>0.7)\n",
    "#f, ax = plt.subplots(figsize=(15,10))\n",
    "#sns.heatmap(corr, annot=True)\n",
    "\n",
    "\n",
    "def get_redundant_pairs(data_g):\n",
    "    pairs_to_drop = set()\n",
    "    cols = data_g.columns\n",
    "    for i in range(0, data_g.shape[1]):\n",
    "        for j in range(0, i+1):\n",
    "            pairs_to_drop.add((cols[i], cols[j]))\n",
    "    return pairs_to_drop\n",
    "\n",
    "def get_top_abs_correlations(data_g, n=2):\n",
    "    au_corr = data_g.corr().abs().unstack()\n",
    "    labels_to_drop = get_redundant_pairs(data_g)\n",
    "    au_corr = au_corr.drop(labels=labels_to_drop).sort_values(ascending=False)\n",
    "    return au_corr[0:n]\n",
    "\n",
    "pd.set_option('display.max_rows', None)\n",
    "print(\"Top Absolute Correlations\")\n",
    "print(get_top_abs_correlations(data_g, 350))"
   ]
  }
 ],
 "metadata": {
  "kernelspec": {
   "display_name": "Python 3",
   "language": "python",
   "name": "python3"
  },
  "language_info": {
   "codemirror_mode": {
    "name": "ipython",
    "version": 3
   },
   "file_extension": ".py",
   "mimetype": "text/x-python",
   "name": "python",
   "nbconvert_exporter": "python",
   "pygments_lexer": "ipython3",
   "version": "3.7.4"
  }
 },
 "nbformat": 4,
 "nbformat_minor": 2
}
