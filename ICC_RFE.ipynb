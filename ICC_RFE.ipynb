{
 "cells": [
  {
   "cell_type": "code",
   "execution_count": null,
   "metadata": {},
   "outputs": [],
   "source": [
    "from pandas import read_csv \n",
    "import pandas as pd\n",
    "import numpy as np\n",
    "import csv\n",
    "from sklearn.feature_selection import RFE\n",
    "from sklearn.tree import DecisionTreeClassifier\n",
    "\n",
    "\n",
    "filename = 'My_data.csv'\n",
    "dataframe = read_csv(filename, delimiter=',', header = 1)\n",
    "array = dataframe.values\n",
    "\n",
    "array = dataframe.values\n",
    "X = array[:, 0:75]\n",
    "Y = array[:, 75]\n",
    "\n",
    "print(Y)\n",
    "model = DecisionTreeClassifier()\n",
    "rfe = RFE(model, 25)\n",
    "fit = rfe.fit(X, Y)\n",
    "print(\"Num Features: %d\" % (fit.n_features_))\n",
    "print(\"Selected Features: %s\" % (fit.support_))\n",
    "print(\"Feature Ranking: %s\" % (fit.ranking_))\n",
    "print(\"Feature name: %s\" % (fit.feature_names_))"
   ]
  }
 ],
 "metadata": {
  "kernelspec": {
   "display_name": "Python 3",
   "language": "python",
   "name": "python3"
  },
  "language_info": {
   "codemirror_mode": {
    "name": "ipython",
    "version": 3
   },
   "file_extension": ".py",
   "mimetype": "text/x-python",
   "name": "python",
   "nbconvert_exporter": "python",
   "pygments_lexer": "ipython3",
   "version": "3.7.4"
  }
 },
 "nbformat": 4,
 "nbformat_minor": 2
}
